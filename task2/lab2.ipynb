{
 "cells": [
  {
   "cell_type": "markdown",
   "metadata": {},
   "source": [
    "# Regressor"
   ]
  },
  {
   "cell_type": "code",
   "execution_count": null,
   "metadata": {},
   "outputs": [],
   "source": [
    "import pandas as pd\n",
    "import numpy as np\n",
    "import matplotlib.pyplot as plt\n",
    "\n",
    "from sklearn.preprocessing import MinMaxScaler\n",
    "from sklearn.model_selection import train_test_split\n",
    "from sklearn.metrics import r2_score, mean_absolute_error\n",
    "\n",
    "from keras.models import Sequential\n",
    "from keras.layers import Dense, SimpleRNN, LSTM\n",
    "from keras.callbacks import ModelCheckpoint, EarlyStopping"
   ]
  },
  {
   "cell_type": "code",
   "execution_count": null,
   "metadata": {},
   "outputs": [],
   "source": [
    "df = pd.read_csv('./Kaliningrad_weather_19102020_15102011.csv',  sep=';', encoding='windows-1251')\n",
    "df.head()\n",
    "\n",
    "df = df.dropna()\n",
    "X = df.drop(['T','LocalTime', 'DD'],axis=1)\n",
    "y = df['T']"
   ]
  },
  {
   "cell_type": "code",
   "execution_count": null,
   "metadata": {},
   "outputs": [],
   "source": [
    "minMaxScaler = MinMaxScaler()\n",
    "X = minMaxScaler.fit_transform(X)\n",
    "\n",
    "X_all_train,X_test,y_all_train,y_test = train_test_split(X,y,test_size=0.15,random_state=1)\n",
    "\n",
    "X_train, X_val, y_train, y_val = train_test_split(X_all_train, y_all_train,\n",
    "                                                  test_size=0.2,random_state=1)"
   ]
  },
  {
   "cell_type": "code",
   "execution_count": null,
   "metadata": {},
   "outputs": [],
   "source": [
    "regressorModel = Sequential()\n",
    "regressorModel.add(Dense(100,activation='relu',input_dim=X_train.shape[1]))\n",
    "regressorModel.add(Dense(1))\n",
    "regressorModel.summary()"
   ]
  },
  {
   "cell_type": "code",
   "execution_count": null,
   "metadata": {},
   "outputs": [],
   "source": [
    "regressorModel.compile(optimizer='adam',loss='mse',\n",
    "                              metrics='mae')"
   ]
  },
  {
   "cell_type": "code",
   "execution_count": null,
   "metadata": {},
   "outputs": [],
   "source": [
    "early_stop = EarlyStopping(monitor='val_mae',patience=7,\n",
    "                           mode='min',verbose=1)\n",
    "\n",
    "checkpoint = ModelCheckpoint('./regressor-{epoch:02d}-{val_mae:.2f}.hdf5',\n",
    "                             monitor='val_mae',verbose=1,\n",
    "                             mode='min',save_best_only=True)\n",
    "\n",
    "callbacks_list = [early_stop,checkpoint]"
   ]
  },
  {
   "cell_type": "code",
   "execution_count": null,
   "metadata": {},
   "outputs": [],
   "source": [
    "regressorHistory = regressorModel.fit(X_train, y_train, \n",
    "                                      batch_size=25, epochs=100,\n",
    "                                      callbacks=callbacks_list,\n",
    "                                      validation_data=(X_val,y_val))"
   ]
  },
  {
   "cell_type": "code",
   "execution_count": null,
   "metadata": {},
   "outputs": [],
   "source": [
    "loss_function = regressorHistory.history['loss']\n",
    "val_loss_function = regressorHistory.history['val_loss']\n",
    "epochs = range(1,len(loss_function)+1)\n",
    "\n",
    "plt.title('Потери на обучающей и валидационной выборках')\n",
    "plt.plot(epochs,loss_function,color='blue',label='Ошибка обучения (MSE)')\n",
    "plt.plot(epochs,val_loss_function,color='red',label='Ошибка валидации (MSE)')\n",
    "plt.xlabel('Эпоха')\n",
    "plt.ylabel('Ошибка модели (MSE)')\n",
    "plt.legend()\n",
    "plt.show()"
   ]
  },
  {
   "cell_type": "code",
   "execution_count": null,
   "metadata": {},
   "outputs": [],
   "source": [
    "mae = regressorHistory.history['mae']\n",
    "val_mae = regressorHistory.history['val_mae']\n",
    "\n",
    "plt.title('MAE на обучающей и валидационной выборках')\n",
    "plt.plot(epochs,mae,color='blue',label='MAE (обучение)')\n",
    "plt.plot(epochs,val_mae,color='red',label='MAE (валидация)')\n",
    "plt.xlabel('Эпоха')\n",
    "plt.ylabel('MAE')\n",
    "plt.legend()\n",
    "plt.show()"
   ]
  },
  {
   "cell_type": "code",
   "execution_count": null,
   "metadata": {},
   "outputs": [],
   "source": [
    "y_pred = regressorModel.predict(X_test)\n",
    "y_pred"
   ]
  },
  {
   "cell_type": "code",
   "execution_count": null,
   "metadata": {},
   "outputs": [],
   "source": [
    "print('R2 Score (Test) = ',round(r2_score(y_true=y_test, y_pred=y_pred),3))\n",
    "print('MAE (Test) = ',round(mean_absolute_error(y_true=y_test,\n",
    "                                                     y_pred=y_pred),3))"
   ]
  },
  {
   "cell_type": "markdown",
   "metadata": {},
   "source": [
    "# Simple RNN"
   ]
  },
  {
   "cell_type": "code",
   "execution_count": null,
   "metadata": {},
   "outputs": [],
   "source": [
    "df = pd.read_csv('./Kaliningrad_weather_19102020_15102011.csv',  sep=';', encoding='windows-1251')\n",
    "df.head()\n",
    "\n",
    "df = df.dropna()\n",
    "X = df.drop(['T','LocalTime', 'DD'],axis=1)\n",
    "y = df['T']"
   ]
  },
  {
   "cell_type": "code",
   "execution_count": null,
   "metadata": {},
   "outputs": [],
   "source": [
    "min_max_scaler = MinMaxScaler()\n",
    "\n",
    "data = df['T'].values\n",
    "data = min_max_scaler.fit_transform(data.reshape(-1,1))\n",
    "data = data.flatten()\n",
    "data"
   ]
  },
  {
   "cell_type": "code",
   "execution_count": null,
   "metadata": {},
   "outputs": [],
   "source": [
    "window = 10\n",
    "\n",
    "def get_XY(data, window):\n",
    "  Y_index = np.arange(window, len(data), window)\n",
    "  Y = data[Y_index]\n",
    "  rows_x = len(Y)\n",
    "  X = data[range(window*rows_x)]\n",
    "  X = np.reshape(X,(rows_x,window,1))\n",
    "  return X,Y\n",
    "\n",
    "X,y=get_XY(data,window)\n",
    "print(X.shape,y.shape)"
   ]
  },
  {
   "cell_type": "code",
   "execution_count": null,
   "metadata": {},
   "outputs": [],
   "source": [
    "a = int(X.shape[0]*0.7)\n",
    "b = int(X.shape[0]*0.9)\n",
    "\n",
    "X_train = X[:a,:]\n",
    "X_val = X[a:b:]\n",
    "X_test = X[b:,:]\n",
    "y_train = y[:a]\n",
    "y_val = y[a:b]\n",
    "y_test = y[b:]"
   ]
  },
  {
   "cell_type": "code",
   "execution_count": null,
   "metadata": {},
   "outputs": [],
   "source": [
    "model = Sequential()\n",
    "model.add(SimpleRNN(10,activation='relu',input_shape=(window,1)))\n",
    "model.add(Dense(1,activation='linear'))\n",
    "\n",
    "model.summary()"
   ]
  },
  {
   "cell_type": "code",
   "execution_count": null,
   "metadata": {},
   "outputs": [],
   "source": [
    "model.compile(optimizer='adam',loss='mse',metrics='mae')"
   ]
  },
  {
   "cell_type": "code",
   "execution_count": null,
   "metadata": {},
   "outputs": [],
   "source": [
    "history = model.fit(X_train,y_train,epochs=30,batch_size=32,\n",
    "                    validation_data=(X_val,y_val))"
   ]
  },
  {
   "cell_type": "code",
   "execution_count": null,
   "metadata": {},
   "outputs": [],
   "source": [
    "loss_function = history.history['loss']\n",
    "val_loss_function = history.history['val_loss']\n",
    "epochs = range(1,len(loss_function)+1)\n",
    "\n",
    "plt.title('Потери на обучающей и валидационной выборках')\n",
    "plt.plot(epochs,loss_function,color='blue',label='Ошибка обучения (MSE)')\n",
    "plt.plot(epochs,val_loss_function,color='red',label='Ошибка валидации (MSE)')\n",
    "plt.xlabel('Эпоха')\n",
    "plt.ylabel('Ошибка модели (MSE)')\n",
    "plt.legend()\n",
    "plt.show()\n"
   ]
  },
  {
   "cell_type": "code",
   "execution_count": null,
   "metadata": {},
   "outputs": [],
   "source": [
    "y_pred = model.predict(X_test)\n",
    "y_pred_inv = min_max_scaler.inverse_transform(y_pred)\n",
    "y_test_inv = min_max_scaler.inverse_transform(y_test.reshape(-1,1))"
   ]
  },
  {
   "cell_type": "code",
   "execution_count": null,
   "metadata": {},
   "outputs": [],
   "source": [
    "print('R2 Score (Test) = ',round(r2_score(y_true=y_test_inv,y_pred=y_pred_inv),3))\n",
    "print('MAE (Test) = ',round(mean_absolute_error(y_true=y_test_inv,\n",
    "                                                     y_pred=y_pred_inv),3))"
   ]
  },
  {
   "cell_type": "code",
   "execution_count": null,
   "metadata": {},
   "outputs": [],
   "source": [
    "plt.plot(range(1,len(y_test_inv)+1),y_test_inv)\n",
    "plt.plot(range(1,len(y_pred_inv)+1),y_pred_inv)"
   ]
  },
  {
   "cell_type": "markdown",
   "metadata": {},
   "source": [
    "# LSTM"
   ]
  },
  {
   "cell_type": "code",
   "execution_count": null,
   "metadata": {},
   "outputs": [],
   "source": [
    "df = pd.read_csv('./Kaliningrad_weather_19102020_15102011.csv',  sep=';', encoding='windows-1251')\n",
    "df.head()\n",
    "\n",
    "df = df.dropna()\n",
    "X = df.drop(['T','LocalTime', 'DD'],axis=1)\n",
    "y = df['T']"
   ]
  },
  {
   "cell_type": "code",
   "execution_count": null,
   "metadata": {},
   "outputs": [],
   "source": [
    "data = df['T'].values\n",
    "data = min_max_scaler.fit_transform(data.reshape(-1,1))\n",
    "data = data.flatten()\n",
    "data"
   ]
  },
  {
   "cell_type": "code",
   "execution_count": null,
   "metadata": {},
   "outputs": [],
   "source": [
    "window = 20\n",
    "n_samples = data.shape[0]-window\n",
    "n_train_samples = 32000\n",
    "n_val_samples = 6500\n",
    "n_test_samples = n_samples-n_train_samples-n_val_samples\n",
    "n_test_samples"
   ]
  },
  {
   "cell_type": "code",
   "execution_count": null,
   "metadata": {},
   "outputs": [],
   "source": [
    "X_train=np.zeros((n_train_samples,window))\n",
    "y_train=np.zeros(n_train_samples)\n",
    "\n",
    "X_val=np.zeros((n_val_samples,window))\n",
    "y_val=np.zeros(n_val_samples)\n",
    "\n",
    "X_test=np.zeros((n_test_samples,window))\n",
    "y_test=np.zeros(n_test_samples)"
   ]
  },
  {
   "cell_type": "code",
   "execution_count": null,
   "metadata": {},
   "outputs": [],
   "source": [
    "for i in range(n_train_samples):\n",
    "  for j in range(window):\n",
    "    X_train[i,j]=data[i+j]\n",
    "  y_train[i]=data[i+window]\n",
    "\n",
    "for i in range(n_val_samples):\n",
    "  for j in range(window):\n",
    "    X_val[i,j]=data[n_train_samples+i+j]\n",
    "  y_val[i]=data[n_train_samples+i+window]\n",
    "\n",
    "for i in range(n_test_samples):\n",
    "  for j in range(window):\n",
    "    X_test[i,j]=data[n_train_samples+n_val_samples+i+j]\n",
    "  y_test[i]=data[n_train_samples+n_val_samples+i+window]"
   ]
  },
  {
   "cell_type": "code",
   "execution_count": null,
   "metadata": {},
   "outputs": [],
   "source": [
    "X_train = np.reshape(X_train,(X_train.shape[0],X_train.shape[1],1))\n",
    "X_val = np.reshape(X_val,(X_val.shape[0],X_val.shape[1],1))\n",
    "X_test = np.reshape(X_test,(X_test.shape[0],X_test.shape[1],1))"
   ]
  },
  {
   "cell_type": "code",
   "execution_count": null,
   "metadata": {},
   "outputs": [],
   "source": [
    "model = Sequential()\n",
    "model.add(LSTM(10,input_shape=(window,1)))\n",
    "model.add(Dense(1,activation='linear'))\n",
    "\n",
    "model.summary()"
   ]
  },
  {
   "cell_type": "code",
   "execution_count": null,
   "metadata": {},
   "outputs": [],
   "source": [
    "model.compile(optimizer='adam',loss='mse',metrics='mae')"
   ]
  },
  {
   "cell_type": "code",
   "execution_count": null,
   "metadata": {},
   "outputs": [],
   "source": [
    "history = model.fit(X_train,y_train,epochs=30,batch_size=32,\n",
    "                    validation_data=(X_val,y_val))"
   ]
  },
  {
   "cell_type": "code",
   "execution_count": null,
   "metadata": {},
   "outputs": [],
   "source": [
    "y_pred = model.predict(X_test)\n",
    "y_pred_inv = min_max_scaler.inverse_transform(y_pred)\n",
    "y_test_inv = min_max_scaler.inverse_transform(y_test.reshape(-1,1))"
   ]
  },
  {
   "cell_type": "code",
   "execution_count": null,
   "metadata": {},
   "outputs": [],
   "source": [
    "mae = history.history['mae']\n",
    "val_mae = history.history['val_mae']\n",
    "epochs = range(1,len(mae)+1)\n",
    "\n",
    "plt.title('Потери на обучающей и валидационной выборках')\n",
    "plt.plot(epochs,mae,color='blue',label='Ошибка обучения (MAE)')\n",
    "plt.plot(epochs,val_mae,color='red',label='Ошибка валидации (MAE)')\n",
    "plt.xlabel('Эпоха')\n",
    "plt.ylabel('Ошибка модели (MAE)')\n",
    "plt.legend()\n",
    "plt.show()"
   ]
  },
  {
   "cell_type": "code",
   "execution_count": null,
   "metadata": {},
   "outputs": [],
   "source": [
    "y_pred = model.predict(X_test)\n",
    "y_pred_inv = min_max_scaler.inverse_transform(y_pred)\n",
    "y_test_inv = min_max_scaler.inverse_transform(y_test.reshape(-1,1))\n",
    "\n",
    "print('R2 Score (Test) = ',round(r2_score(y_true=y_test_inv,y_pred=y_pred_inv),3))\n",
    "print('MAE (Test) = ',round(mean_absolute_error(y_true=y_test_inv,\n",
    "                                                     y_pred=y_pred_inv),3))"
   ]
  },
  {
   "cell_type": "code",
   "execution_count": null,
   "metadata": {},
   "outputs": [],
   "source": [
    "plt.plot(range(1,len(y_test_inv)+1),y_test_inv)\n",
    "plt.plot(range(1,len(y_pred_inv)+1),y_pred_inv)"
   ]
  }
 ],
 "metadata": {
  "kernelspec": {
   "display_name": "Python 3.8.3 32-bit",
   "language": "python",
   "name": "python3"
  },
  "language_info": {
   "codemirror_mode": {
    "name": "ipython",
    "version": 3
   },
   "file_extension": ".py",
   "mimetype": "text/x-python",
   "name": "python",
   "nbconvert_exporter": "python",
   "pygments_lexer": "ipython3",
   "version": "3.8.3"
  },
  "orig_nbformat": 4,
  "vscode": {
   "interpreter": {
    "hash": "4cc1fa583e49647fecc5b06377ad5e0df4737f61d4896a038827258d5c5cca8b"
   }
  }
 },
 "nbformat": 4,
 "nbformat_minor": 2
}
