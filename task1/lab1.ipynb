{
  "cells": [
    {
      "cell_type": "markdown",
      "metadata": {
        "id": "h-boLDngxoGo"
      },
      "source": [
        "# Необходимые импорты"
      ]
    },
    {
      "cell_type": "code",
      "execution_count": null,
      "metadata": {
        "id": "OGccttgkqTos"
      },
      "outputs": [],
      "source": [
        "import pandas as pd\n",
        "import numpy as np\n",
        "import matplotlib.pyplot as plt\n",
        "\n",
        "from sklearn.preprocessing import MinMaxScaler\n",
        "from sklearn.model_selection import train_test_split\n",
        "\n",
        "from keras.models import Sequential\n",
        "from keras.layers import Dense\n",
        "\n",
        "from sklearn.metrics import classification_report, mean_squared_error"
      ]
    },
    {
      "cell_type": "markdown",
      "metadata": {},
      "source": [
        "# Datasets"
      ]
    },
    {
      "cell_type": "code",
      "execution_count": null,
      "metadata": {},
      "outputs": [],
      "source": [
        "frac_df =  pd.read_csv(\n",
        "    './frac.csv', \n",
        "    sep=\";\"\n",
        ")\n",
        "result_slice_df = pd.read_csv(\n",
        "    './result_slice.csv',\n",
        "    encoding = \"windows-1251\", \n",
        "    sep=\";\"\n",
        ")"
      ]
    },
    {
      "cell_type": "code",
      "execution_count": null,
      "metadata": {},
      "outputs": [],
      "source": [
        "display(frac_df)\n",
        "display(frac_df.shape)\n",
        "display(frac_df.info())\n",
        "display(frac_df.describe())"
      ]
    },
    {
      "cell_type": "markdown",
      "metadata": {
        "id": "v_wO1l6XGtor"
      },
      "source": [
        "# Регрессия"
      ]
    },
    {
      "cell_type": "markdown",
      "metadata": {},
      "source": [
        "## Подготовка датасета"
      ]
    },
    {
      "cell_type": "code",
      "execution_count": null,
      "metadata": {},
      "outputs": [],
      "source": [
        "def toNum(s):\n",
        "  try:\n",
        "    return float(s.replace(',','.'))\n",
        "  except:\n",
        "    return s"
      ]
    },
    {
      "cell_type": "code",
      "execution_count": null,
      "metadata": {},
      "outputs": [],
      "source": [
        "for col in frac_df.columns:\n",
        "  frac_df[col]= frac_df[col].apply(toNum)"
      ]
    },
    {
      "cell_type": "code",
      "execution_count": null,
      "metadata": {},
      "outputs": [],
      "source": [
        "col_num = 0\n",
        "k_miss = .5\n",
        "\n",
        "half_cols = []\n",
        "\n",
        "for half_miss in ((frac_df.isnull().sum() / frac_df.shape[0]) > k_miss):\n",
        "    if half_miss:\n",
        "        half_cols.append(frac_df.columns.tolist()[col_num])\n",
        "\n",
        "    col_num += 1\n",
        "\n",
        "half_cols"
      ]
    },
    {
      "cell_type": "code",
      "execution_count": null,
      "metadata": {},
      "outputs": [],
      "source": [
        "frac_df = frac_df.drop(\n",
        "    columns = half_cols\n",
        ")"
      ]
    },
    {
      "cell_type": "code",
      "execution_count": null,
      "metadata": {},
      "outputs": [],
      "source": [
        "col_num = 0\n",
        "obj_cols = []\n",
        "\n",
        "for is_obj in frac_df.dtypes == np.object_:\n",
        "    if is_obj:\n",
        "        obj_cols.append(frac_df.columns.tolist()[col_num])\n",
        "\n",
        "    col_num += 1\n",
        "\n",
        "obj_cols"
      ]
    },
    {
      "cell_type": "code",
      "execution_count": null,
      "metadata": {},
      "outputs": [],
      "source": [
        "frac_df = frac_df.drop(\n",
        "    columns = obj_cols\n",
        ")"
      ]
    },
    {
      "cell_type": "code",
      "execution_count": null,
      "metadata": {
        "colab": {
          "base_uri": "https://localhost:8080/",
          "height": 488
        },
        "id": "1hWPRbu824d4",
        "outputId": "373612ae-6e51-4119-b03b-efba78ffad3d"
      },
      "outputs": [],
      "source": [
        "frac_df = frac_df.fillna(method = 'ffill', axis = 0)\n",
        "frac_df = frac_df.dropna(axis = 0)    \n",
        "frac_df"
      ]
    },
    {
      "cell_type": "markdown",
      "metadata": {
        "id": "ybmh54wUfrXC"
      },
      "source": [
        "## Опыты"
      ]
    },
    {
      "cell_type": "code",
      "execution_count": null,
      "metadata": {},
      "outputs": [],
      "source": [
        "X = frac_df.drop(['result_qoil3', 'year'], axis=1)\n",
        "y = frac_df['result_qoil3']\n",
        "\n",
        "X_train, X_test, y_train, y_test = train_test_split(\n",
        "    X, \n",
        "    y, \n",
        "    test_size = 0.2, \n",
        "    random_state = 15\n",
        ")\n",
        "X_train, X_val, y_train, y_val = train_test_split(\n",
        "    X_train,\n",
        "    y_train,\n",
        "    test_size = 0.2,\n",
        "    random_state = 15,\n",
        ")\n",
        "\n",
        "print(\n",
        "    f'X_train: {X_train.shape}',\n",
        "    f'X_val: {X_val.shape}',\n",
        "    sep='\\n'\n",
        ")"
      ]
    },
    {
      "cell_type": "code",
      "execution_count": null,
      "metadata": {},
      "outputs": [],
      "source": [
        "mse_results = []"
      ]
    },
    {
      "cell_type": "markdown",
      "metadata": {},
      "source": [
        "### Опыт №1"
      ]
    },
    {
      "cell_type": "code",
      "execution_count": null,
      "metadata": {},
      "outputs": [],
      "source": [
        "# Эксперемент, параметры можно менять \n",
        "regres_model = Sequential()\n",
        "\n",
        "regres_model.add(Dense(120, activation='relu', input_dim = X_train.shape[1]))\n",
        "regres_model.add(Dense(60, activation='relu', input_dim = X_train.shape[1]))\n",
        "regres_model.add(Dense(1))\n",
        "\n",
        "regres_model.compile(optimizer='adam', loss='mse', metrics='mae')\n",
        "\n",
        "# Эксперемент, параметры можно менять\n",
        "batch_size = 10\n",
        "epochs = 105\n",
        "\n",
        "regres_model_hist = regres_model.fit(\n",
        "    X_train,\n",
        "    y_train,\n",
        "    batch_size=batch_size,\n",
        "    epochs=epochs,\n",
        "    validation_data=(X_val, y_val)\n",
        ")"
      ]
    },
    {
      "cell_type": "code",
      "execution_count": null,
      "metadata": {
        "id": "wJnTv2p0fibj"
      },
      "outputs": [],
      "source": [
        "y_pred = regres_model.predict(X_test)\n",
        "\n",
        "mse = mean_squared_error(y_test, y_pred)\n",
        "mse_results.append(mse)\n",
        "\n",
        "print(\"MSE: %f\" % (mse))"
      ]
    },
    {
      "cell_type": "code",
      "execution_count": null,
      "metadata": {},
      "outputs": [],
      "source": [
        "result_df = pd.DataFrame() \n",
        "result_df['Test'] = y_test\n",
        "result_df['Pred'] = y_pred\n",
        "\n",
        "result_df"
      ]
    },
    {
      "cell_type": "code",
      "execution_count": null,
      "metadata": {},
      "outputs": [],
      "source": [
        "loss_function = regres_model_hist.history['loss']\n",
        "val_loss_function = regres_model_hist.history['val_loss']\n",
        "\n",
        "epoch = range(1,epochs+1)\n",
        "\n",
        "plt.figure(figsize=(20,5))\n",
        "plt.title('Потери на обучающей и валидационной выборках')\n",
        "plt.plot(epoch,loss_function,color='blue',label='Ошибка обучения (MSE)')\n",
        "plt.plot(epoch,val_loss_function,color='red',label='Ошибка валидации (MSE)')\n",
        "plt.xlabel('Эпоха')\n",
        "plt.ylabel('Ошибка модели (MSE)')\n",
        "plt.legend()\n",
        "plt.show()"
      ]
    },
    {
      "cell_type": "markdown",
      "metadata": {},
      "source": [
        "### Опыт №2"
      ]
    },
    {
      "cell_type": "code",
      "execution_count": null,
      "metadata": {},
      "outputs": [],
      "source": [
        "# Эксперемент, параметры можно менять\n",
        "regres_model = Sequential()\n",
        "\n",
        "regres_model.add(Dense(120, activation='relu', input_dim = X_train.shape[1]))\n",
        "regres_model.add(Dense(60, activation='relu', input_dim = X_train.shape[1]))\n",
        "regres_model.add(Dense(1))\n",
        "\n",
        "regres_model.compile(optimizer='adam', loss='mse', metrics='mae')\n",
        "\n",
        "# Эксперемент, параметры можно менять\n",
        "batch_size = 10\n",
        "epochs = 200\n",
        "regres_model_hist = regres_model.fit(\n",
        "    X_train,\n",
        "    y_train,\n",
        "    batch_size=batch_size,\n",
        "    epochs=epochs,\n",
        "    validation_data=(X_val, y_val)\n",
        ")"
      ]
    },
    {
      "cell_type": "code",
      "execution_count": null,
      "metadata": {
        "id": "wJnTv2p0fibj"
      },
      "outputs": [],
      "source": [
        "y_pred = regres_model.predict(X_test)\n",
        "\n",
        "mse = mean_squared_error(y_test, y_pred)\n",
        "mse_results.append(mse)\n",
        "\n",
        "print(\"MSE: %f\" % (mse))"
      ]
    },
    {
      "cell_type": "code",
      "execution_count": null,
      "metadata": {},
      "outputs": [],
      "source": [
        "result_df = pd.DataFrame() \n",
        "result_df['Test'] = y_test\n",
        "result_df['Pred'] = y_pred\n",
        "\n",
        "result_df"
      ]
    },
    {
      "cell_type": "code",
      "execution_count": null,
      "metadata": {},
      "outputs": [],
      "source": [
        "loss_function = regres_model_hist.history['loss']\n",
        "val_loss_function = regres_model_hist.history['val_loss']\n",
        "\n",
        "epoch = range(1,epochs+1)\n",
        "\n",
        "plt.figure(figsize=(20,5))\n",
        "plt.title('Потери на обучающей и валидационной выборках')\n",
        "plt.plot(epoch,loss_function,color='blue',label='Ошибка обучения (MSE)')\n",
        "plt.plot(epoch,val_loss_function,color='red',label='Ошибка валидации (MSE)')\n",
        "plt.xlabel('Эпоха')\n",
        "plt.ylabel('Ошибка модели (MSE)')\n",
        "plt.legend()\n",
        "plt.show()"
      ]
    },
    {
      "cell_type": "markdown",
      "metadata": {},
      "source": [
        "### Опыт №3"
      ]
    },
    {
      "cell_type": "code",
      "execution_count": null,
      "metadata": {},
      "outputs": [],
      "source": [
        "# Эксперемент, параметры можно менять\n",
        "regres_model = Sequential()\n",
        "\n",
        "regres_model.add(Dense(60, activation='relu', input_dim = X_train.shape[1]))\n",
        "regres_model.add(Dense(30, activation='relu', input_dim = X_train.shape[1]))\n",
        "regres_model.add(Dense(1))\n",
        "\n",
        "regres_model.compile(optimizer='adam', loss='mse', metrics='mae')\n",
        "\n",
        "# Эксперемент, параметры можно менять\n",
        "batch_size = 10\n",
        "epochs = 200\n",
        "\n",
        "regres_model_hist = regres_model.fit(\n",
        "    X_train,\n",
        "    y_train,\n",
        "    batch_size=batch_size,\n",
        "    epochs=epochs,\n",
        "    validation_data=(X_val, y_val)\n",
        ")"
      ]
    },
    {
      "cell_type": "code",
      "execution_count": null,
      "metadata": {
        "id": "wJnTv2p0fibj"
      },
      "outputs": [],
      "source": [
        "y_pred = regres_model.predict(X_test)\n",
        "\n",
        "mse = mean_squared_error(y_test, y_pred)\n",
        "mse_results.append(mse)\n",
        "\n",
        "print(\"MSE: %f\" % (mse))"
      ]
    },
    {
      "cell_type": "code",
      "execution_count": null,
      "metadata": {},
      "outputs": [],
      "source": [
        "result_df = pd.DataFrame() \n",
        "result_df['Test'] = y_test\n",
        "result_df['Pred'] = y_pred\n",
        "\n",
        "result_df"
      ]
    },
    {
      "cell_type": "code",
      "execution_count": null,
      "metadata": {},
      "outputs": [],
      "source": [
        "loss_function = regres_model_hist.history['loss']\n",
        "val_loss_function = regres_model_hist.history['val_loss']\n",
        "\n",
        "epoch = range(1,epochs+1)\n",
        "\n",
        "plt.figure(figsize=(20,5))\n",
        "plt.title('Потери на обучающей и валидационной выборках')\n",
        "plt.plot(epoch,loss_function,color='blue',label='Ошибка обучения (MSE)')\n",
        "plt.plot(epoch,val_loss_function,color='red',label='Ошибка валидации (MSE)')\n",
        "plt.xlabel('Эпоха')\n",
        "plt.ylabel('Ошибка модели (MSE)')\n",
        "plt.legend()\n",
        "plt.show()"
      ]
    },
    {
      "cell_type": "markdown",
      "metadata": {},
      "source": [
        "### Опыт №4"
      ]
    },
    {
      "cell_type": "code",
      "execution_count": null,
      "metadata": {},
      "outputs": [],
      "source": [
        "# Эксперемент, параметры можно менять\n",
        "regres_model = Sequential()\n",
        "\n",
        "regres_model.add(Dense(60, activation='relu', input_dim = X_train.shape[1]))\n",
        "regres_model.add(Dense(60, activation='relu', input_dim = X_train.shape[1]))\n",
        "regres_model.add(Dense(1))\n",
        "\n",
        "regres_model.compile(optimizer='adam', loss='mse', metrics='mae')\n",
        "\n",
        "# Эксперемент, параметры можно менять\n",
        "batch_size = 5\n",
        "epochs = 200\n",
        "\n",
        "regres_model_hist = regres_model.fit(\n",
        "    X_train,\n",
        "    y_train,\n",
        "    batch_size=batch_size,\n",
        "    epochs=epochs,\n",
        "    validation_data=(X_val, y_val)\n",
        ")"
      ]
    },
    {
      "cell_type": "code",
      "execution_count": null,
      "metadata": {
        "id": "wJnTv2p0fibj"
      },
      "outputs": [],
      "source": [
        "y_pred = regres_model.predict(X_test)\n",
        "\n",
        "mse = mean_squared_error(y_test, y_pred)\n",
        "mse_results.append(mse)\n",
        "\n",
        "print(\"MSE: %f\" % (mse))"
      ]
    },
    {
      "cell_type": "code",
      "execution_count": null,
      "metadata": {},
      "outputs": [],
      "source": [
        "result_df = pd.DataFrame() \n",
        "result_df['Test'] = y_test\n",
        "result_df['Pred'] = y_pred\n",
        "\n",
        "result_df"
      ]
    },
    {
      "cell_type": "code",
      "execution_count": null,
      "metadata": {},
      "outputs": [],
      "source": [
        "loss_function = regres_model_hist.history['loss']\n",
        "val_loss_function = regres_model_hist.history['val_loss']\n",
        "\n",
        "epoch = range(1,epochs+1)\n",
        "\n",
        "plt.figure(figsize=(20,5))\n",
        "plt.title('Потери на обучающей и валидационной выборках')\n",
        "plt.plot(epoch,loss_function,color='blue',label='Ошибка обучения (MSE)')\n",
        "plt.plot(epoch,val_loss_function,color='red',label='Ошибка валидации (MSE)')\n",
        "plt.xlabel('Эпоха')\n",
        "plt.ylabel('Ошибка модели (MSE)')\n",
        "plt.legend()\n",
        "plt.show()"
      ]
    },
    {
      "cell_type": "markdown",
      "metadata": {},
      "source": [
        "### Опыт №5"
      ]
    },
    {
      "cell_type": "code",
      "execution_count": null,
      "metadata": {},
      "outputs": [],
      "source": [
        "# Эксперемент, параметры можно менять\n",
        "regres_model = Sequential()\n",
        "\n",
        "regres_model.add(Dense(120, activation='relu', input_dim = X_train.shape[1]))\n",
        "regres_model.add(Dense(60, activation='relu'))\n",
        "regres_model.add(Dense(30, activation='relu'))\n",
        "regres_model.add(Dense(1))\n",
        "regres_model.compile(optimizer='adam', loss='mse', metrics='mae')\n",
        "\n",
        "# Эксперемент, параметры можно менять\n",
        "batch_size = 10\n",
        "epochs = 50\n",
        "\n",
        "regres_model_hist = regres_model.fit(\n",
        "    X_train,\n",
        "    y_train,\n",
        "    batch_size=batch_size,\n",
        "    epochs=epochs,\n",
        "    validation_data=(X_val, y_val)\n",
        ")"
      ]
    },
    {
      "cell_type": "code",
      "execution_count": null,
      "metadata": {
        "id": "wJnTv2p0fibj"
      },
      "outputs": [],
      "source": [
        "y_pred = regres_model.predict(X_test)\n",
        "\n",
        "mse = mean_squared_error(y_test, y_pred)\n",
        "mse_results.append(mse)\n",
        "\n",
        "print(\"MSE: %f\" % (mse))"
      ]
    },
    {
      "cell_type": "code",
      "execution_count": null,
      "metadata": {},
      "outputs": [],
      "source": [
        "result_df = pd.DataFrame() \n",
        "result_df['Test'] = y_test\n",
        "result_df['Pred'] = y_pred\n",
        "\n",
        "result_df"
      ]
    },
    {
      "cell_type": "code",
      "execution_count": null,
      "metadata": {},
      "outputs": [],
      "source": [
        "loss_function = regres_model_hist.history['loss']\n",
        "val_loss_function = regres_model_hist.history['val_loss']\n",
        "\n",
        "epoch = range(1,epochs+1)\n",
        "\n",
        "plt.figure(figsize=(20,5))\n",
        "plt.title('Потери на обучающей и валидационной выборках')\n",
        "plt.plot(epoch,loss_function,color='blue',label='Ошибка обучения (MSE)')\n",
        "plt.plot(epoch,val_loss_function,color='red',label='Ошибка валидации (MSE)')\n",
        "plt.xlabel('Эпоха')\n",
        "plt.ylabel('Ошибка модели (MSE)')\n",
        "plt.legend()\n",
        "plt.show()"
      ]
    },
    {
      "cell_type": "markdown",
      "metadata": {},
      "source": [
        "### Результаты опытов"
      ]
    },
    {
      "cell_type": "code",
      "execution_count": null,
      "metadata": {},
      "outputs": [],
      "source": [
        "num = 1\n",
        "\n",
        "for mse in mse_results:\n",
        "    print(f'Опыт №{num}')\n",
        "    print('MSE:', mse)\n",
        "    print('RMSE:', np.sqrt(mse))\n",
        "    print()\n",
        "\n",
        "    num += 1"
      ]
    },
    {
      "cell_type": "markdown",
      "metadata": {
        "id": "OVsdz6MlGonN"
      },
      "source": [
        "# Классификация"
      ]
    },
    {
      "cell_type": "code",
      "execution_count": null,
      "metadata": {
        "colab": {
          "base_uri": "https://localhost:8080/",
          "height": 380
        },
        "id": "o4Ks2mjjGwRN",
        "outputId": "9af1b3f0-d102-483b-e9a3-94243e0e0404"
      },
      "outputs": [],
      "source": [
        "df_cl = pd.read_csv('./result_slice.csv')\n",
        "  \n",
        "df_cl = df_cl.dropna(axis='columns', how='all', inplace=False)\n",
        "df_cl = df_cl.drop('Unnamed: 0', axis=1)\n",
        "\n",
        "# df_cl.info()\n",
        "\n",
        "df_cl_nan = pd.DataFrame(round((df_cl.isnull().mean() * 100), 2))\n",
        "\n",
        "df_cl = df_cl.drop(list(df_cl_nan[df_cl_nan[0] > 40].index), axis=1)\n",
        "df_cl"
      ]
    },
    {
      "cell_type": "code",
      "execution_count": null,
      "metadata": {
        "id": "GOgbGXADJkwR"
      },
      "outputs": [],
      "source": [
        "df_cl = df_cl.dropna()\n",
        "\n",
        "#Перемещаем столбец DEPT в конец таблицы\n",
        "df_cl = df_cl.reindex(columns=list(df_cl.drop('EF_b', axis=1).append(pd.DataFrame(df_cl['EF_b']))))"
      ]
    },
    {
      "cell_type": "code",
      "execution_count": null,
      "metadata": {
        "id": "woJSaB4KUjmc"
      },
      "outputs": [],
      "source": [
        "# df_cl[]\n",
        "df_cl['EF_b_BIN'] = (df_cl['EF_b'] > 2).astype('float64')\n",
        "df_cl"
      ]
    },
    {
      "cell_type": "code",
      "execution_count": null,
      "metadata": {
        "id": "JJ_FLJnOWkb1"
      },
      "outputs": [],
      "source": [
        "X = df_cl.drop(['DEPT', 'well', 'FZ', 'EF_b', 'EF_b_BIN'], axis=1)\n",
        "y = df_cl['EF_b_BIN']"
      ]
    },
    {
      "cell_type": "code",
      "execution_count": null,
      "metadata": {
        "id": "FaMAiW3RpJN4"
      },
      "outputs": [],
      "source": [
        "from sklearn.preprocessing import StandardScaler\n",
        "stdScaler = StandardScaler()\n",
        "X = stdScaler.fit_transform(X)\n",
        "X"
      ]
    },
    {
      "cell_type": "code",
      "execution_count": null,
      "metadata": {
        "id": "BD37OaZ9qXln"
      },
      "outputs": [],
      "source": [
        "from sklearn.model_selection import train_test_split\n",
        "X_all_train, X_test, y_all_train, y_test = train_test_split(X, y, test_size=0.15, random_state=15)\n",
        "\n",
        "X_train, X_val, y_train, y_val = train_test_split(X_all_train, y_all_train, test_size=0.2,random_state=15)"
      ]
    },
    {
      "cell_type": "code",
      "execution_count": null,
      "metadata": {
        "id": "Fo5gCcl5qcOu"
      },
      "outputs": [],
      "source": [
        "#'logistic', 'relu', 'tanh'\n",
        "from sklearn.neural_network import MLPClassifier\n",
        "\n",
        "batch_size = 200\n",
        "max_iter = 50\n",
        "\n",
        "model = MLPClassifier(\n",
        "    hidden_layer_sizes=(1,2),\n",
        "    activation='tanh',\n",
        "    early_stopping=True,\n",
        "    max_iter= max_iter,\n",
        "    batch_size  = batch_size\n",
        ")\n",
        "\n",
        "hist_cl = model.fit(X_train, y_train)"
      ]
    },
    {
      "cell_type": "code",
      "execution_count": null,
      "metadata": {
        "id": "GC3bxJNeq60t"
      },
      "outputs": [],
      "source": [
        "y_pred = model.predict(X_test)\n",
        "\n",
        "from sklearn.metrics import classification_report\n",
        "print(classification_report(y_true=y_test, y_pred=y_pred))"
      ]
    }
  ],
  "metadata": {
    "colab": {
      "provenance": []
    },
    "kernelspec": {
      "display_name": "Python 3.8.3 32-bit",
      "language": "python",
      "name": "python3"
    },
    "language_info": {
      "codemirror_mode": {
        "name": "ipython",
        "version": 3
      },
      "file_extension": ".py",
      "mimetype": "text/x-python",
      "name": "python",
      "nbconvert_exporter": "python",
      "pygments_lexer": "ipython3",
      "version": "3.8.3"
    },
    "vscode": {
      "interpreter": {
        "hash": "4cc1fa583e49647fecc5b06377ad5e0df4737f61d4896a038827258d5c5cca8b"
      }
    }
  },
  "nbformat": 4,
  "nbformat_minor": 0
}
